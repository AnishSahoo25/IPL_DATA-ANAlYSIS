{
 "cells": [
  {
   "cell_type": "code",
   "execution_count": 62,
   "id": "546c09ab",
   "metadata": {},
   "outputs": [],
   "source": [
    "import pandas as pd\n",
    "from matplotlib import pyplot as plt\n",
    "import seaborn as sns"
   ]
  },
  {
   "cell_type": "markdown",
   "id": "c70a3acd",
   "metadata": {},
   "source": [
    "# MATCHES DATASETS"
   ]
  },
  {
   "cell_type": "code",
   "execution_count": 63,
   "id": "d011cf11",
   "metadata": {},
   "outputs": [],
   "source": [
    "data= pd.read_csv('C:/Users/nEW u/Documents/IPL_Data/match_data.csv')"
   ]
  },
  {
   "cell_type": "code",
   "execution_count": 64,
   "id": "56c9c0c4",
   "metadata": {},
   "outputs": [
    {
     "data": {
      "text/html": [
       "<div>\n",
       "<style scoped>\n",
       "    .dataframe tbody tr th:only-of-type {\n",
       "        vertical-align: middle;\n",
       "    }\n",
       "\n",
       "    .dataframe tbody tr th {\n",
       "        vertical-align: top;\n",
       "    }\n",
       "\n",
       "    .dataframe thead th {\n",
       "        text-align: right;\n",
       "    }\n",
       "</style>\n",
       "<table border=\"1\" class=\"dataframe\">\n",
       "  <thead>\n",
       "    <tr style=\"text-align: right;\">\n",
       "      <th></th>\n",
       "      <th>id</th>\n",
       "      <th>season</th>\n",
       "      <th>city</th>\n",
       "      <th>date</th>\n",
       "      <th>team1</th>\n",
       "      <th>team2</th>\n",
       "      <th>toss_winner</th>\n",
       "      <th>toss_decision</th>\n",
       "      <th>winner</th>\n",
       "      <th>eliminator</th>\n",
       "      <th>...</th>\n",
       "      <th>overs</th>\n",
       "      <th>player_of_match</th>\n",
       "      <th>venue</th>\n",
       "      <th>umpire1</th>\n",
       "      <th>umpire2</th>\n",
       "      <th>umpire3</th>\n",
       "      <th>first_bat_team</th>\n",
       "      <th>first_bowl_team</th>\n",
       "      <th>first_bat_score</th>\n",
       "      <th>second_bat_score</th>\n",
       "    </tr>\n",
       "  </thead>\n",
       "  <tbody>\n",
       "    <tr>\n",
       "      <th>0</th>\n",
       "      <td>419164</td>\n",
       "      <td>2010</td>\n",
       "      <td>Mumbai</td>\n",
       "      <td>2010-04-24</td>\n",
       "      <td>Royal Challengers Bangalore</td>\n",
       "      <td>Deccan Chargers</td>\n",
       "      <td>Deccan Chargers</td>\n",
       "      <td>bat</td>\n",
       "      <td>Royal Challengers Bangalore</td>\n",
       "      <td>NaN</td>\n",
       "      <td>...</td>\n",
       "      <td>20</td>\n",
       "      <td>A Kumble</td>\n",
       "      <td>Dr DY Patil Sports Academy</td>\n",
       "      <td>RE Koertzen</td>\n",
       "      <td>SJA Taufel</td>\n",
       "      <td>NaN</td>\n",
       "      <td>Deccan Chargers</td>\n",
       "      <td>Royal Challengers Bangalore</td>\n",
       "      <td>82.0</td>\n",
       "      <td>86.0</td>\n",
       "    </tr>\n",
       "    <tr>\n",
       "      <th>1</th>\n",
       "      <td>419131</td>\n",
       "      <td>2010</td>\n",
       "      <td>Delhi</td>\n",
       "      <td>2010-03-29</td>\n",
       "      <td>Delhi Daredevils</td>\n",
       "      <td>Kolkata Knight Riders</td>\n",
       "      <td>Delhi Daredevils</td>\n",
       "      <td>bat</td>\n",
       "      <td>Delhi Daredevils</td>\n",
       "      <td>NaN</td>\n",
       "      <td>...</td>\n",
       "      <td>20</td>\n",
       "      <td>DA Warner</td>\n",
       "      <td>Feroz Shah Kotla</td>\n",
       "      <td>SS Hazare</td>\n",
       "      <td>SJA Taufel</td>\n",
       "      <td>NaN</td>\n",
       "      <td>Delhi Daredevils</td>\n",
       "      <td>Kolkata Knight Riders</td>\n",
       "      <td>177.0</td>\n",
       "      <td>137.0</td>\n",
       "    </tr>\n",
       "    <tr>\n",
       "      <th>2</th>\n",
       "      <td>336021</td>\n",
       "      <td>2008</td>\n",
       "      <td>Mumbai</td>\n",
       "      <td>2008-05-16</td>\n",
       "      <td>Mumbai Indians</td>\n",
       "      <td>Kolkata Knight Riders</td>\n",
       "      <td>Mumbai Indians</td>\n",
       "      <td>field</td>\n",
       "      <td>Mumbai Indians</td>\n",
       "      <td>NaN</td>\n",
       "      <td>...</td>\n",
       "      <td>20</td>\n",
       "      <td>SM Pollock</td>\n",
       "      <td>Wankhede Stadium</td>\n",
       "      <td>BR Doctrove</td>\n",
       "      <td>DJ Harper</td>\n",
       "      <td>NaN</td>\n",
       "      <td>Kolkata Knight Riders</td>\n",
       "      <td>Mumbai Indians</td>\n",
       "      <td>67.0</td>\n",
       "      <td>68.0</td>\n",
       "    </tr>\n",
       "    <tr>\n",
       "      <th>3</th>\n",
       "      <td>980931</td>\n",
       "      <td>2016</td>\n",
       "      <td>Pune</td>\n",
       "      <td>2016-04-22</td>\n",
       "      <td>Rising Pune Supergiants</td>\n",
       "      <td>Royal Challengers Bangalore</td>\n",
       "      <td>Rising Pune Supergiants</td>\n",
       "      <td>field</td>\n",
       "      <td>Royal Challengers Bangalore</td>\n",
       "      <td>NaN</td>\n",
       "      <td>...</td>\n",
       "      <td>20</td>\n",
       "      <td>AB de Villiers</td>\n",
       "      <td>Maharashtra Cricket Association Stadium</td>\n",
       "      <td>CB Gaffaney</td>\n",
       "      <td>VK Sharma</td>\n",
       "      <td>NaN</td>\n",
       "      <td>Royal Challengers Bangalore</td>\n",
       "      <td>Rising Pune Supergiants</td>\n",
       "      <td>185.0</td>\n",
       "      <td>172.0</td>\n",
       "    </tr>\n",
       "    <tr>\n",
       "      <th>4</th>\n",
       "      <td>419163</td>\n",
       "      <td>2010</td>\n",
       "      <td>Mumbai</td>\n",
       "      <td>2010-04-22</td>\n",
       "      <td>Chennai Super Kings</td>\n",
       "      <td>Deccan Chargers</td>\n",
       "      <td>Chennai Super Kings</td>\n",
       "      <td>bat</td>\n",
       "      <td>Chennai Super Kings</td>\n",
       "      <td>NaN</td>\n",
       "      <td>...</td>\n",
       "      <td>20</td>\n",
       "      <td>DE Bollinger</td>\n",
       "      <td>Dr DY Patil Sports Academy</td>\n",
       "      <td>BR Doctrove</td>\n",
       "      <td>RB Tiffin</td>\n",
       "      <td>NaN</td>\n",
       "      <td>Chennai Super Kings</td>\n",
       "      <td>Deccan Chargers</td>\n",
       "      <td>142.0</td>\n",
       "      <td>104.0</td>\n",
       "    </tr>\n",
       "  </tbody>\n",
       "</table>\n",
       "<p>5 rows × 24 columns</p>\n",
       "</div>"
      ],
      "text/plain": [
       "       id  season    city        date                        team1  \\\n",
       "0  419164    2010  Mumbai  2010-04-24  Royal Challengers Bangalore   \n",
       "1  419131    2010   Delhi  2010-03-29             Delhi Daredevils   \n",
       "2  336021    2008  Mumbai  2008-05-16               Mumbai Indians   \n",
       "3  980931    2016    Pune  2016-04-22      Rising Pune Supergiants   \n",
       "4  419163    2010  Mumbai  2010-04-22          Chennai Super Kings   \n",
       "\n",
       "                         team2              toss_winner toss_decision  \\\n",
       "0              Deccan Chargers          Deccan Chargers           bat   \n",
       "1        Kolkata Knight Riders         Delhi Daredevils           bat   \n",
       "2        Kolkata Knight Riders           Mumbai Indians         field   \n",
       "3  Royal Challengers Bangalore  Rising Pune Supergiants         field   \n",
       "4              Deccan Chargers      Chennai Super Kings           bat   \n",
       "\n",
       "                        winner eliminator  ... overs  player_of_match  \\\n",
       "0  Royal Challengers Bangalore        NaN  ...    20         A Kumble   \n",
       "1             Delhi Daredevils        NaN  ...    20        DA Warner   \n",
       "2               Mumbai Indians        NaN  ...    20       SM Pollock   \n",
       "3  Royal Challengers Bangalore        NaN  ...    20   AB de Villiers   \n",
       "4          Chennai Super Kings        NaN  ...    20     DE Bollinger   \n",
       "\n",
       "                                     venue      umpire1     umpire2 umpire3  \\\n",
       "0               Dr DY Patil Sports Academy  RE Koertzen  SJA Taufel     NaN   \n",
       "1                         Feroz Shah Kotla    SS Hazare  SJA Taufel     NaN   \n",
       "2                         Wankhede Stadium  BR Doctrove   DJ Harper     NaN   \n",
       "3  Maharashtra Cricket Association Stadium  CB Gaffaney   VK Sharma     NaN   \n",
       "4               Dr DY Patil Sports Academy  BR Doctrove   RB Tiffin     NaN   \n",
       "\n",
       "                first_bat_team              first_bowl_team first_bat_score  \\\n",
       "0              Deccan Chargers  Royal Challengers Bangalore            82.0   \n",
       "1             Delhi Daredevils        Kolkata Knight Riders           177.0   \n",
       "2        Kolkata Knight Riders               Mumbai Indians            67.0   \n",
       "3  Royal Challengers Bangalore      Rising Pune Supergiants           185.0   \n",
       "4          Chennai Super Kings              Deccan Chargers           142.0   \n",
       "\n",
       "  second_bat_score  \n",
       "0             86.0  \n",
       "1            137.0  \n",
       "2             68.0  \n",
       "3            172.0  \n",
       "4            104.0  \n",
       "\n",
       "[5 rows x 24 columns]"
      ]
     },
     "execution_count": 64,
     "metadata": {},
     "output_type": "execute_result"
    }
   ],
   "source": [
    "data.head()"
   ]
  },
  {
   "cell_type": "code",
   "execution_count": 5,
   "id": "b0cf1363",
   "metadata": {},
   "outputs": [
    {
     "data": {
      "text/plain": [
       "(746, 24)"
      ]
     },
     "execution_count": 5,
     "metadata": {},
     "output_type": "execute_result"
    }
   ],
   "source": [
    "data.shape  # There are 746 rows and 24 columns in this dataset"
   ]
  },
  {
   "cell_type": "code",
   "execution_count": 8,
   "id": "4b2cb170",
   "metadata": {},
   "outputs": [
    {
     "data": {
      "text/plain": [
       "Index(['id', 'season', 'city', 'date', 'team1', 'team2', 'toss_winner',\n",
       "       'toss_decision', 'winner', 'eliminator', 'dl_applied', 'win_by_runs',\n",
       "       'win_by_wickets', 'result', 'overs', 'player_of_match', 'venue',\n",
       "       'umpire1', 'umpire2', 'umpire3', 'first_bat_team', 'first_bowl_team',\n",
       "       'first_bat_score', 'second_bat_score'],\n",
       "      dtype='object')"
      ]
     },
     "execution_count": 8,
     "metadata": {},
     "output_type": "execute_result"
    }
   ],
   "source": [
    "data.columns # These are column names"
   ]
  },
  {
   "cell_type": "code",
   "execution_count": 12,
   "id": "f5d10763",
   "metadata": {},
   "outputs": [
    {
     "data": {
      "text/plain": [
       "array(['Mumbai', 'Delhi', 'Pune', 'Chandigarh', 'Bangalore', 'Kolkata',\n",
       "       'Chennai', 'Hyderabad', 'Jaipur', 'Dharamsala', 'Rajkot', 'Kanpur',\n",
       "       'Johannesburg', 'Indore', 'Nagpur', nan, 'Durban', 'Kochi',\n",
       "       'Ranchi', 'Ahmedabad', 'Visakhapatnam', 'Raipur', 'Abu Dhabi',\n",
       "       'Bengaluru', 'Port Elizabeth', 'Cape Town', 'Centurion',\n",
       "       'East London', 'Cuttack', 'Bloemfontein', 'Kimberley'],\n",
       "      dtype=object)"
      ]
     },
     "execution_count": 12,
     "metadata": {},
     "output_type": "execute_result"
    }
   ],
   "source": [
    "data['city'].unique() # These  are the cities where ipl match was played"
   ]
  },
  {
   "cell_type": "code",
   "execution_count": 15,
   "id": "bd090628",
   "metadata": {},
   "outputs": [
    {
     "data": {
      "text/plain": [
       "array([2010, 2008, 2016, 2011, 2014, 2017, 2015, 2012, 2009, 2019, 2013,\n",
       "       2018], dtype=int64)"
      ]
     },
     "execution_count": 15,
     "metadata": {},
     "output_type": "execute_result"
    }
   ],
   "source": [
    "data['season'].unique() # In this dataset we have records of all matches\n",
    "                         # betwn 2008 to 2019."
   ]
  },
  {
   "cell_type": "code",
   "execution_count": 16,
   "id": "2f750d33",
   "metadata": {},
   "outputs": [
    {
     "data": {
      "text/plain": [
       "CH Gayle           21\n",
       "AB de Villiers     20\n",
       "MS Dhoni           17\n",
       "DA Warner          17\n",
       "RG Sharma          17\n",
       "                   ..\n",
       "JC Archer           1\n",
       "JD Ryder            1\n",
       "RS Bopara           1\n",
       "AA Jhunjhunwala     1\n",
       "P Parameswaran      1\n",
       "Name: player_of_match, Length: 223, dtype: int64"
      ]
     },
     "execution_count": 16,
     "metadata": {},
     "output_type": "execute_result"
    }
   ],
   "source": [
    "# Getting the frequency of most man of the match awards\n",
    "data['player_of_match'].value_counts()"
   ]
  },
  {
   "cell_type": "code",
   "execution_count": 17,
   "id": "c77dd969",
   "metadata": {},
   "outputs": [
    {
     "data": {
      "text/plain": [
       "CH Gayle          21\n",
       "AB de Villiers    20\n",
       "MS Dhoni          17\n",
       "DA Warner         17\n",
       "RG Sharma         17\n",
       "YK Pathan         16\n",
       "SR Watson         15\n",
       "SK Raina          14\n",
       "G Gambhir         13\n",
       "V Kohli           12\n",
       "Name: player_of_match, dtype: int64"
      ]
     },
     "execution_count": 17,
     "metadata": {},
     "output_type": "execute_result"
    }
   ],
   "source": [
    "# Getting the top 10 man of the match awards\n",
    "data['player_of_match'].value_counts()[0:10]"
   ]
  },
  {
   "cell_type": "code",
   "execution_count": 18,
   "id": "044f2ee9",
   "metadata": {},
   "outputs": [
    {
     "data": {
      "text/plain": [
       "CH Gayle          21\n",
       "AB de Villiers    20\n",
       "MS Dhoni          17\n",
       "DA Warner         17\n",
       "RG Sharma         17\n",
       "Name: player_of_match, dtype: int64"
      ]
     },
     "execution_count": 18,
     "metadata": {},
     "output_type": "execute_result"
    }
   ],
   "source": [
    "# top 5 man of the match players\n",
    "data['player_of_match'].value_counts()[0:5]\n"
   ]
  },
  {
   "cell_type": "code",
   "execution_count": 19,
   "id": "a2cf1043",
   "metadata": {},
   "outputs": [
    {
     "data": {
      "image/png": "[encoded data removed]",
      "text/plain": [
       "<Figure size 576x360 with 1 Axes>"
      ]
     },
     "metadata": {
      "needs_background": "light"
     },
     "output_type": "display_data"
    }
   ],
   "source": [
    "plt.figure(figsize=(8,5))\n",
    "plt.bar(list(data['player_of_match'].value_counts()[0:5].keys()),list(data['player_of_match'].value_counts()[0:5]),color='red')\n",
    "plt.show()"
   ]
  },
  {
   "cell_type": "code",
   "execution_count": 20,
   "id": "08df485a",
   "metadata": {},
   "outputs": [
    {
     "data": {
      "text/plain": [
       "tie          8\n",
       "no result    4\n",
       "Name: result, dtype: int64"
      ]
     },
     "execution_count": 20,
     "metadata": {},
     "output_type": "execute_result"
    }
   ],
   "source": [
    "data['result'].value_counts()"
   ]
  },
  {
   "cell_type": "code",
   "execution_count": 21,
   "id": "cf6b09a5",
   "metadata": {},
   "outputs": [
    {
     "data": {
      "text/plain": [
       "Mumbai Indians                 95\n",
       "Kolkata Knight Riders          91\n",
       "Chennai Super Kings            87\n",
       "Delhi Daredevils               80\n",
       "Royal Challengers Bangalore    80\n",
       "Kings XI Punjab                80\n",
       "Rajasthan Royals               79\n",
       "Sunrisers Hyderabad            46\n",
       "Deccan Chargers                43\n",
       "Pune Warriors                  20\n",
       "Gujarat Lions                  15\n",
       "Delhi Capitals                  9\n",
       "Kochi Tuskers Kerala            8\n",
       "Rising Pune Supergiants         7\n",
       "Rising Pune Supergiant          6\n",
       "Name: toss_winner, dtype: int64"
      ]
     },
     "execution_count": 21,
     "metadata": {},
     "output_type": "execute_result"
    }
   ],
   "source": [
    "# finding out the number of toss win with respect to each team\n",
    "\n",
    "data['toss_winner'].value_counts()"
   ]
  },
  {
   "cell_type": "code",
   "execution_count": 22,
   "id": "e09a933d",
   "metadata": {},
   "outputs": [],
   "source": [
    "# Extrcting the records where a team won batting first\n",
    "batting_first=data[data['win_by_runs']!=0]"
   ]
  },
  {
   "cell_type": "code",
   "execution_count": 24,
   "id": "37e7540e",
   "metadata": {},
   "outputs": [
    {
     "data": {
      "text/html": [
       "<div>\n",
       "<style scoped>\n",
       "    .dataframe tbody tr th:only-of-type {\n",
       "        vertical-align: middle;\n",
       "    }\n",
       "\n",
       "    .dataframe tbody tr th {\n",
       "        vertical-align: top;\n",
       "    }\n",
       "\n",
       "    .dataframe thead th {\n",
       "        text-align: right;\n",
       "    }\n",
       "</style>\n",
       "<table border=\"1\" class=\"dataframe\">\n",
       "  <thead>\n",
       "    <tr style=\"text-align: right;\">\n",
       "      <th></th>\n",
       "      <th>id</th>\n",
       "      <th>season</th>\n",
       "      <th>city</th>\n",
       "      <th>date</th>\n",
       "      <th>team1</th>\n",
       "      <th>team2</th>\n",
       "      <th>toss_winner</th>\n",
       "      <th>toss_decision</th>\n",
       "      <th>winner</th>\n",
       "      <th>eliminator</th>\n",
       "      <th>...</th>\n",
       "      <th>overs</th>\n",
       "      <th>player_of_match</th>\n",
       "      <th>venue</th>\n",
       "      <th>umpire1</th>\n",
       "      <th>umpire2</th>\n",
       "      <th>umpire3</th>\n",
       "      <th>first_bat_team</th>\n",
       "      <th>first_bowl_team</th>\n",
       "      <th>first_bat_score</th>\n",
       "      <th>second_bat_score</th>\n",
       "    </tr>\n",
       "  </thead>\n",
       "  <tbody>\n",
       "    <tr>\n",
       "      <th>0</th>\n",
       "      <td>419164</td>\n",
       "      <td>2010</td>\n",
       "      <td>Mumbai</td>\n",
       "      <td>2010-04-24</td>\n",
       "      <td>Royal Challengers Bangalore</td>\n",
       "      <td>Deccan Chargers</td>\n",
       "      <td>Deccan Chargers</td>\n",
       "      <td>bat</td>\n",
       "      <td>Royal Challengers Bangalore</td>\n",
       "      <td>NaN</td>\n",
       "      <td>...</td>\n",
       "      <td>20</td>\n",
       "      <td>A Kumble</td>\n",
       "      <td>Dr DY Patil Sports Academy</td>\n",
       "      <td>RE Koertzen</td>\n",
       "      <td>SJA Taufel</td>\n",
       "      <td>NaN</td>\n",
       "      <td>Deccan Chargers</td>\n",
       "      <td>Royal Challengers Bangalore</td>\n",
       "      <td>82.0</td>\n",
       "      <td>86.0</td>\n",
       "    </tr>\n",
       "    <tr>\n",
       "      <th>1</th>\n",
       "      <td>419131</td>\n",
       "      <td>2010</td>\n",
       "      <td>Delhi</td>\n",
       "      <td>2010-03-29</td>\n",
       "      <td>Delhi Daredevils</td>\n",
       "      <td>Kolkata Knight Riders</td>\n",
       "      <td>Delhi Daredevils</td>\n",
       "      <td>bat</td>\n",
       "      <td>Delhi Daredevils</td>\n",
       "      <td>NaN</td>\n",
       "      <td>...</td>\n",
       "      <td>20</td>\n",
       "      <td>DA Warner</td>\n",
       "      <td>Feroz Shah Kotla</td>\n",
       "      <td>SS Hazare</td>\n",
       "      <td>SJA Taufel</td>\n",
       "      <td>NaN</td>\n",
       "      <td>Delhi Daredevils</td>\n",
       "      <td>Kolkata Knight Riders</td>\n",
       "      <td>177.0</td>\n",
       "      <td>137.0</td>\n",
       "    </tr>\n",
       "    <tr>\n",
       "      <th>2</th>\n",
       "      <td>336021</td>\n",
       "      <td>2008</td>\n",
       "      <td>Mumbai</td>\n",
       "      <td>2008-05-16</td>\n",
       "      <td>Mumbai Indians</td>\n",
       "      <td>Kolkata Knight Riders</td>\n",
       "      <td>Mumbai Indians</td>\n",
       "      <td>field</td>\n",
       "      <td>Mumbai Indians</td>\n",
       "      <td>NaN</td>\n",
       "      <td>...</td>\n",
       "      <td>20</td>\n",
       "      <td>SM Pollock</td>\n",
       "      <td>Wankhede Stadium</td>\n",
       "      <td>BR Doctrove</td>\n",
       "      <td>DJ Harper</td>\n",
       "      <td>NaN</td>\n",
       "      <td>Kolkata Knight Riders</td>\n",
       "      <td>Mumbai Indians</td>\n",
       "      <td>67.0</td>\n",
       "      <td>68.0</td>\n",
       "    </tr>\n",
       "    <tr>\n",
       "      <th>3</th>\n",
       "      <td>980931</td>\n",
       "      <td>2016</td>\n",
       "      <td>Pune</td>\n",
       "      <td>2016-04-22</td>\n",
       "      <td>Rising Pune Supergiants</td>\n",
       "      <td>Royal Challengers Bangalore</td>\n",
       "      <td>Rising Pune Supergiants</td>\n",
       "      <td>field</td>\n",
       "      <td>Royal Challengers Bangalore</td>\n",
       "      <td>NaN</td>\n",
       "      <td>...</td>\n",
       "      <td>20</td>\n",
       "      <td>AB de Villiers</td>\n",
       "      <td>Maharashtra Cricket Association Stadium</td>\n",
       "      <td>CB Gaffaney</td>\n",
       "      <td>VK Sharma</td>\n",
       "      <td>NaN</td>\n",
       "      <td>Royal Challengers Bangalore</td>\n",
       "      <td>Rising Pune Supergiants</td>\n",
       "      <td>185.0</td>\n",
       "      <td>172.0</td>\n",
       "    </tr>\n",
       "    <tr>\n",
       "      <th>4</th>\n",
       "      <td>419163</td>\n",
       "      <td>2010</td>\n",
       "      <td>Mumbai</td>\n",
       "      <td>2010-04-22</td>\n",
       "      <td>Chennai Super Kings</td>\n",
       "      <td>Deccan Chargers</td>\n",
       "      <td>Chennai Super Kings</td>\n",
       "      <td>bat</td>\n",
       "      <td>Chennai Super Kings</td>\n",
       "      <td>NaN</td>\n",
       "      <td>...</td>\n",
       "      <td>20</td>\n",
       "      <td>DE Bollinger</td>\n",
       "      <td>Dr DY Patil Sports Academy</td>\n",
       "      <td>BR Doctrove</td>\n",
       "      <td>RB Tiffin</td>\n",
       "      <td>NaN</td>\n",
       "      <td>Chennai Super Kings</td>\n",
       "      <td>Deccan Chargers</td>\n",
       "      <td>142.0</td>\n",
       "      <td>104.0</td>\n",
       "    </tr>\n",
       "  </tbody>\n",
       "</table>\n",
       "<p>5 rows × 24 columns</p>\n",
       "</div>"
      ],
      "text/plain": [
       "       id  season    city        date                        team1  \\\n",
       "0  419164    2010  Mumbai  2010-04-24  Royal Challengers Bangalore   \n",
       "1  419131    2010   Delhi  2010-03-29             Delhi Daredevils   \n",
       "2  336021    2008  Mumbai  2008-05-16               Mumbai Indians   \n",
       "3  980931    2016    Pune  2016-04-22      Rising Pune Supergiants   \n",
       "4  419163    2010  Mumbai  2010-04-22          Chennai Super Kings   \n",
       "\n",
       "                         team2              toss_winner toss_decision  \\\n",
       "0              Deccan Chargers          Deccan Chargers           bat   \n",
       "1        Kolkata Knight Riders         Delhi Daredevils           bat   \n",
       "2        Kolkata Knight Riders           Mumbai Indians         field   \n",
       "3  Royal Challengers Bangalore  Rising Pune Supergiants         field   \n",
       "4              Deccan Chargers      Chennai Super Kings           bat   \n",
       "\n",
       "                        winner eliminator  ... overs  player_of_match  \\\n",
       "0  Royal Challengers Bangalore        NaN  ...    20         A Kumble   \n",
       "1             Delhi Daredevils        NaN  ...    20        DA Warner   \n",
       "2               Mumbai Indians        NaN  ...    20       SM Pollock   \n",
       "3  Royal Challengers Bangalore        NaN  ...    20   AB de Villiers   \n",
       "4          Chennai Super Kings        NaN  ...    20     DE Bollinger   \n",
       "\n",
       "                                     venue      umpire1     umpire2 umpire3  \\\n",
       "0               Dr DY Patil Sports Academy  RE Koertzen  SJA Taufel     NaN   \n",
       "1                         Feroz Shah Kotla    SS Hazare  SJA Taufel     NaN   \n",
       "2                         Wankhede Stadium  BR Doctrove   DJ Harper     NaN   \n",
       "3  Maharashtra Cricket Association Stadium  CB Gaffaney   VK Sharma     NaN   \n",
       "4               Dr DY Patil Sports Academy  BR Doctrove   RB Tiffin     NaN   \n",
       "\n",
       "                first_bat_team              first_bowl_team first_bat_score  \\\n",
       "0              Deccan Chargers  Royal Challengers Bangalore            82.0   \n",
       "1             Delhi Daredevils        Kolkata Knight Riders           177.0   \n",
       "2        Kolkata Knight Riders               Mumbai Indians            67.0   \n",
       "3  Royal Challengers Bangalore      Rising Pune Supergiants           185.0   \n",
       "4          Chennai Super Kings              Deccan Chargers           142.0   \n",
       "\n",
       "  second_bat_score  \n",
       "0             86.0  \n",
       "1            137.0  \n",
       "2             68.0  \n",
       "3            172.0  \n",
       "4            104.0  \n",
       "\n",
       "[5 rows x 24 columns]"
      ]
     },
     "execution_count": 24,
     "metadata": {},
     "output_type": "execute_result"
    }
   ],
   "source": [
    "batting_first.head()"
   ]
  },
  {
   "cell_type": "code",
   "execution_count": 27,
   "id": "6cc2b1d7",
   "metadata": {},
   "outputs": [
    {
     "data": {
      "image/png": "[encoded data removed]",
      "text/plain": [
       "<Figure size 504x504 with 1 Axes>"
      ]
     },
     "metadata": {
      "needs_background": "light"
     },
     "output_type": "display_data"
    }
   ],
   "source": [
    "# making a histogram to understand the distribution of wining when batting first\n",
    "plt.figure(figsize=(7,7))\n",
    "plt.hist(batting_first['win_by_runs'])\n",
    "plt.title('Distribution of runs')\n",
    "plt.xlabel('Runs')\n",
    "plt.show()"
   ]
  },
  {
   "cell_type": "code",
   "execution_count": 28,
   "id": "36446d94",
   "metadata": {},
   "outputs": [
    {
     "data": {
      "text/plain": [
       "Mumbai Indians                 104\n",
       "Chennai Super Kings             99\n",
       "Kolkata Knight Riders           91\n",
       "Royal Challengers Bangalore     82\n",
       "Kings XI Punjab                 79\n",
       "Rajasthan Royals                73\n",
       "Delhi Daredevils                67\n",
       "Sunrisers Hyderabad             57\n",
       "Deccan Chargers                 29\n",
       "Gujarat Lions                   13\n",
       "Pune Warriors                   12\n",
       "Rising Pune Supergiant          10\n",
       "Delhi Capitals                   7\n",
       "Kochi Tuskers Kerala             6\n",
       "Rising Pune Supergiants          5\n",
       "Name: winner, dtype: int64"
      ]
     },
     "execution_count": 28,
     "metadata": {},
     "output_type": "execute_result"
    }
   ],
   "source": [
    "# finding the team who won most of the time while batting first\n",
    "batting_first['winner'].value_counts()"
   ]
  },
  {
   "cell_type": "code",
   "execution_count": 33,
   "id": "5b22f696",
   "metadata": {},
   "outputs": [
    {
     "data": {
      "image/png": "[encoded data removed]",
      "text/plain": [
       "<Figure size 504x504 with 1 Axes>"
      ]
     },
     "metadata": {
      "needs_background": "light"
     },
     "output_type": "display_data"
    }
   ],
   "source": [
    "# making barlpot for top3 teams with most wins after batting first\n",
    "\n",
    "plt.figure(figsize=(7,7))\n",
    "plt.bar(list(batting_first['winner'].value_counts()[0:3].keys()),list(batting_first['winner'].value_counts()[0:3]),color=('blue','yellow','black'))\n",
    "plt.show()"
   ]
  },
  {
   "cell_type": "code",
   "execution_count": 36,
   "id": "56d82d29",
   "metadata": {},
   "outputs": [
    {
     "data": {
      "image/png": "[encoded data removed]",
      "text/plain": [
       "<Figure size 504x504 with 1 Axes>"
      ]
     },
     "metadata": {},
     "output_type": "display_data"
    }
   ],
   "source": [
    "# making a pie chart\n",
    "plt.figure(figsize=(7,7))\n",
    "plt.pie(list(batting_first['winner'].value_counts()),labels=list(batting_first['winner'].value_counts().keys()),autopct='%0.1f%%')\n",
    "plt.show()"
   ]
  },
  {
   "cell_type": "code",
   "execution_count": 51,
   "id": "dd512a28",
   "metadata": {},
   "outputs": [],
   "source": [
    "# exctracting those records where a team has won after batting second i.e. bowling first\n",
    "bowling_first = data[data['win_by_wickets']!=0]"
   ]
  },
  {
   "cell_type": "code",
   "execution_count": 52,
   "id": "115d8538",
   "metadata": {},
   "outputs": [
    {
     "data": {
      "text/html": [
       "<div>\n",
       "<style scoped>\n",
       "    .dataframe tbody tr th:only-of-type {\n",
       "        vertical-align: middle;\n",
       "    }\n",
       "\n",
       "    .dataframe tbody tr th {\n",
       "        vertical-align: top;\n",
       "    }\n",
       "\n",
       "    .dataframe thead th {\n",
       "        text-align: right;\n",
       "    }\n",
       "</style>\n",
       "<table border=\"1\" class=\"dataframe\">\n",
       "  <thead>\n",
       "    <tr style=\"text-align: right;\">\n",
       "      <th></th>\n",
       "      <th>id</th>\n",
       "      <th>season</th>\n",
       "      <th>city</th>\n",
       "      <th>date</th>\n",
       "      <th>team1</th>\n",
       "      <th>team2</th>\n",
       "      <th>toss_winner</th>\n",
       "      <th>toss_decision</th>\n",
       "      <th>winner</th>\n",
       "      <th>eliminator</th>\n",
       "      <th>...</th>\n",
       "      <th>overs</th>\n",
       "      <th>player_of_match</th>\n",
       "      <th>venue</th>\n",
       "      <th>umpire1</th>\n",
       "      <th>umpire2</th>\n",
       "      <th>umpire3</th>\n",
       "      <th>first_bat_team</th>\n",
       "      <th>first_bowl_team</th>\n",
       "      <th>first_bat_score</th>\n",
       "      <th>second_bat_score</th>\n",
       "    </tr>\n",
       "  </thead>\n",
       "  <tbody>\n",
       "    <tr>\n",
       "      <th>0</th>\n",
       "      <td>419164</td>\n",
       "      <td>2010</td>\n",
       "      <td>Mumbai</td>\n",
       "      <td>2010-04-24</td>\n",
       "      <td>Royal Challengers Bangalore</td>\n",
       "      <td>Deccan Chargers</td>\n",
       "      <td>Deccan Chargers</td>\n",
       "      <td>bat</td>\n",
       "      <td>Royal Challengers Bangalore</td>\n",
       "      <td>NaN</td>\n",
       "      <td>...</td>\n",
       "      <td>20</td>\n",
       "      <td>A Kumble</td>\n",
       "      <td>Dr DY Patil Sports Academy</td>\n",
       "      <td>RE Koertzen</td>\n",
       "      <td>SJA Taufel</td>\n",
       "      <td>NaN</td>\n",
       "      <td>Deccan Chargers</td>\n",
       "      <td>Royal Challengers Bangalore</td>\n",
       "      <td>82.0</td>\n",
       "      <td>86.0</td>\n",
       "    </tr>\n",
       "    <tr>\n",
       "      <th>1</th>\n",
       "      <td>419131</td>\n",
       "      <td>2010</td>\n",
       "      <td>Delhi</td>\n",
       "      <td>2010-03-29</td>\n",
       "      <td>Delhi Daredevils</td>\n",
       "      <td>Kolkata Knight Riders</td>\n",
       "      <td>Delhi Daredevils</td>\n",
       "      <td>bat</td>\n",
       "      <td>Delhi Daredevils</td>\n",
       "      <td>NaN</td>\n",
       "      <td>...</td>\n",
       "      <td>20</td>\n",
       "      <td>DA Warner</td>\n",
       "      <td>Feroz Shah Kotla</td>\n",
       "      <td>SS Hazare</td>\n",
       "      <td>SJA Taufel</td>\n",
       "      <td>NaN</td>\n",
       "      <td>Delhi Daredevils</td>\n",
       "      <td>Kolkata Knight Riders</td>\n",
       "      <td>177.0</td>\n",
       "      <td>137.0</td>\n",
       "    </tr>\n",
       "    <tr>\n",
       "      <th>2</th>\n",
       "      <td>336021</td>\n",
       "      <td>2008</td>\n",
       "      <td>Mumbai</td>\n",
       "      <td>2008-05-16</td>\n",
       "      <td>Mumbai Indians</td>\n",
       "      <td>Kolkata Knight Riders</td>\n",
       "      <td>Mumbai Indians</td>\n",
       "      <td>field</td>\n",
       "      <td>Mumbai Indians</td>\n",
       "      <td>NaN</td>\n",
       "      <td>...</td>\n",
       "      <td>20</td>\n",
       "      <td>SM Pollock</td>\n",
       "      <td>Wankhede Stadium</td>\n",
       "      <td>BR Doctrove</td>\n",
       "      <td>DJ Harper</td>\n",
       "      <td>NaN</td>\n",
       "      <td>Kolkata Knight Riders</td>\n",
       "      <td>Mumbai Indians</td>\n",
       "      <td>67.0</td>\n",
       "      <td>68.0</td>\n",
       "    </tr>\n",
       "    <tr>\n",
       "      <th>3</th>\n",
       "      <td>980931</td>\n",
       "      <td>2016</td>\n",
       "      <td>Pune</td>\n",
       "      <td>2016-04-22</td>\n",
       "      <td>Rising Pune Supergiants</td>\n",
       "      <td>Royal Challengers Bangalore</td>\n",
       "      <td>Rising Pune Supergiants</td>\n",
       "      <td>field</td>\n",
       "      <td>Royal Challengers Bangalore</td>\n",
       "      <td>NaN</td>\n",
       "      <td>...</td>\n",
       "      <td>20</td>\n",
       "      <td>AB de Villiers</td>\n",
       "      <td>Maharashtra Cricket Association Stadium</td>\n",
       "      <td>CB Gaffaney</td>\n",
       "      <td>VK Sharma</td>\n",
       "      <td>NaN</td>\n",
       "      <td>Royal Challengers Bangalore</td>\n",
       "      <td>Rising Pune Supergiants</td>\n",
       "      <td>185.0</td>\n",
       "      <td>172.0</td>\n",
       "    </tr>\n",
       "    <tr>\n",
       "      <th>4</th>\n",
       "      <td>419163</td>\n",
       "      <td>2010</td>\n",
       "      <td>Mumbai</td>\n",
       "      <td>2010-04-22</td>\n",
       "      <td>Chennai Super Kings</td>\n",
       "      <td>Deccan Chargers</td>\n",
       "      <td>Chennai Super Kings</td>\n",
       "      <td>bat</td>\n",
       "      <td>Chennai Super Kings</td>\n",
       "      <td>NaN</td>\n",
       "      <td>...</td>\n",
       "      <td>20</td>\n",
       "      <td>DE Bollinger</td>\n",
       "      <td>Dr DY Patil Sports Academy</td>\n",
       "      <td>BR Doctrove</td>\n",
       "      <td>RB Tiffin</td>\n",
       "      <td>NaN</td>\n",
       "      <td>Chennai Super Kings</td>\n",
       "      <td>Deccan Chargers</td>\n",
       "      <td>142.0</td>\n",
       "      <td>104.0</td>\n",
       "    </tr>\n",
       "  </tbody>\n",
       "</table>\n",
       "<p>5 rows × 24 columns</p>\n",
       "</div>"
      ],
      "text/plain": [
       "       id  season    city        date                        team1  \\\n",
       "0  419164    2010  Mumbai  2010-04-24  Royal Challengers Bangalore   \n",
       "1  419131    2010   Delhi  2010-03-29             Delhi Daredevils   \n",
       "2  336021    2008  Mumbai  2008-05-16               Mumbai Indians   \n",
       "3  980931    2016    Pune  2016-04-22      Rising Pune Supergiants   \n",
       "4  419163    2010  Mumbai  2010-04-22          Chennai Super Kings   \n",
       "\n",
       "                         team2              toss_winner toss_decision  \\\n",
       "0              Deccan Chargers          Deccan Chargers           bat   \n",
       "1        Kolkata Knight Riders         Delhi Daredevils           bat   \n",
       "2        Kolkata Knight Riders           Mumbai Indians         field   \n",
       "3  Royal Challengers Bangalore  Rising Pune Supergiants         field   \n",
       "4              Deccan Chargers      Chennai Super Kings           bat   \n",
       "\n",
       "                        winner eliminator  ... overs  player_of_match  \\\n",
       "0  Royal Challengers Bangalore        NaN  ...    20         A Kumble   \n",
       "1             Delhi Daredevils        NaN  ...    20        DA Warner   \n",
       "2               Mumbai Indians        NaN  ...    20       SM Pollock   \n",
       "3  Royal Challengers Bangalore        NaN  ...    20   AB de Villiers   \n",
       "4          Chennai Super Kings        NaN  ...    20     DE Bollinger   \n",
       "\n",
       "                                     venue      umpire1     umpire2 umpire3  \\\n",
       "0               Dr DY Patil Sports Academy  RE Koertzen  SJA Taufel     NaN   \n",
       "1                         Feroz Shah Kotla    SS Hazare  SJA Taufel     NaN   \n",
       "2                         Wankhede Stadium  BR Doctrove   DJ Harper     NaN   \n",
       "3  Maharashtra Cricket Association Stadium  CB Gaffaney   VK Sharma     NaN   \n",
       "4               Dr DY Patil Sports Academy  BR Doctrove   RB Tiffin     NaN   \n",
       "\n",
       "                first_bat_team              first_bowl_team first_bat_score  \\\n",
       "0              Deccan Chargers  Royal Challengers Bangalore            82.0   \n",
       "1             Delhi Daredevils        Kolkata Knight Riders           177.0   \n",
       "2        Kolkata Knight Riders               Mumbai Indians            67.0   \n",
       "3  Royal Challengers Bangalore      Rising Pune Supergiants           185.0   \n",
       "4          Chennai Super Kings              Deccan Chargers           142.0   \n",
       "\n",
       "  second_bat_score  \n",
       "0             86.0  \n",
       "1            137.0  \n",
       "2             68.0  \n",
       "3            172.0  \n",
       "4            104.0  \n",
       "\n",
       "[5 rows x 24 columns]"
      ]
     },
     "execution_count": 52,
     "metadata": {},
     "output_type": "execute_result"
    }
   ],
   "source": [
    "bowling_first.head()"
   ]
  },
  {
   "cell_type": "code",
   "execution_count": 53,
   "id": "66e95698",
   "metadata": {},
   "outputs": [
    {
     "data": {
      "text/plain": [
       "Mumbai Indians                 104\n",
       "Chennai Super Kings             99\n",
       "Kolkata Knight Riders           91\n",
       "Royal Challengers Bangalore     82\n",
       "Kings XI Punjab                 79\n",
       "Rajasthan Royals                73\n",
       "Delhi Daredevils                67\n",
       "Sunrisers Hyderabad             57\n",
       "Deccan Chargers                 29\n",
       "Gujarat Lions                   13\n",
       "Pune Warriors                   12\n",
       "Rising Pune Supergiant          10\n",
       "Delhi Capitals                   7\n",
       "Kochi Tuskers Kerala             6\n",
       "Rising Pune Supergiants          5\n",
       "Name: winner, dtype: int64"
      ]
     },
     "execution_count": 53,
     "metadata": {},
     "output_type": "execute_result"
    }
   ],
   "source": [
    "bowling_first['winner'].value_counts()"
   ]
  },
  {
   "cell_type": "code",
   "execution_count": 54,
   "id": "0da8be51",
   "metadata": {},
   "outputs": [
    {
     "data": {
      "text/plain": [
       "Index(['Mumbai Indians', 'Chennai Super Kings', 'Kolkata Knight Riders',\n",
       "       'Royal Challengers Bangalore', 'Kings XI Punjab', 'Rajasthan Royals',\n",
       "       'Delhi Daredevils', 'Sunrisers Hyderabad', 'Deccan Chargers',\n",
       "       'Gujarat Lions', 'Pune Warriors', 'Rising Pune Supergiant',\n",
       "       'Delhi Capitals', 'Kochi Tuskers Kerala', 'Rising Pune Supergiants'],\n",
       "      dtype='object')"
      ]
     },
     "execution_count": 54,
     "metadata": {},
     "output_type": "execute_result"
    }
   ],
   "source": [
    "bowling_first['winner'].value_counts().keys()"
   ]
  },
  {
   "cell_type": "code",
   "execution_count": 55,
   "id": "bb3f4fde",
   "metadata": {},
   "outputs": [
    {
     "data": {
      "image/png": "[encoded data removed]",
      "text/plain": [
       "<Figure size 504x504 with 1 Axes>"
      ]
     },
     "metadata": {
      "needs_background": "light"
     },
     "output_type": "display_data"
    }
   ],
   "source": [
    "# making a histogram to understand the distribution of wining when bowling first\n",
    "plt.figure(figsize=(7,7))\n",
    "plt.hist(batting_first['win_by_wickets'], bins=30)\n",
    "plt.show()    "
   ]
  },
  {
   "cell_type": "code",
   "execution_count": 56,
   "id": "218176a3",
   "metadata": {},
   "outputs": [
    {
     "data": {
      "image/png": "[encoded data removed]",
      "text/plain": [
       "<Figure size 504x504 with 1 Axes>"
      ]
     },
     "metadata": {
      "needs_background": "light"
     },
     "output_type": "display_data"
    }
   ],
   "source": [
    "# making a histogram to see the distribution of team winning bowling first\n",
    "\n",
    "plt.figure(figsize=(7,7))\n",
    "plt.bar(list(bowling_first['winner'].value_counts()[0:3].keys()),list(bowling_first['winner'].value_counts()[0:3]),color=('blue','yellow','black'))\n",
    "plt.show()"
   ]
  },
  {
   "cell_type": "code",
   "execution_count": 57,
   "id": "c4300a10",
   "metadata": {},
   "outputs": [
    {
     "data": {
      "image/png": "[encoded data removed]",
      "text/plain": [
       "<Figure size 504x504 with 1 Axes>"
      ]
     },
     "metadata": {},
     "output_type": "display_data"
    }
   ],
   "source": [
    "# making a pie chart\n",
    "plt.figure(figsize=(7,7))\n",
    "plt.pie(list(bowling_first['winner'].value_counts()),labels=list(bowling_first['winner'].value_counts().keys()),autopct='%0.1f%%')\n",
    "plt.show()"
   ]
  },
  {
   "cell_type": "code",
   "execution_count": 58,
   "id": "f16ead01",
   "metadata": {},
   "outputs": [
    {
     "data": {
      "text/plain": [
       "2013    76\n",
       "2012    74\n",
       "2011    73\n",
       "2010    60\n",
       "2014    60\n",
       "2016    60\n",
       "2018    60\n",
       "2015    59\n",
       "2017    59\n",
       "2008    58\n",
       "2009    57\n",
       "2019    50\n",
       "Name: season, dtype: int64"
      ]
     },
     "execution_count": 58,
     "metadata": {},
     "output_type": "execute_result"
    }
   ],
   "source": [
    "data['season'].value_counts() # looking number of matches played in each season"
   ]
  },
  {
   "cell_type": "code",
   "execution_count": 59,
   "id": "e53d5d67",
   "metadata": {},
   "outputs": [
    {
     "data": {
      "text/plain": [
       "Mumbai            99\n",
       "Kolkata           77\n",
       "Delhi             73\n",
       "Bangalore         66\n",
       "Hyderabad         63\n",
       "Chennai           56\n",
       "Chandigarh        54\n",
       "Jaipur            47\n",
       "Pune              38\n",
       "Durban            15\n",
       "Bengaluru         13\n",
       "Ahmedabad         12\n",
       "Centurion         12\n",
       "Visakhapatnam     11\n",
       "Rajkot            10\n",
       "Dharamsala         9\n",
       "Indore             9\n",
       "Johannesburg       8\n",
       "Cuttack            7\n",
       "Ranchi             7\n",
       "Port Elizabeth     7\n",
       "Cape Town          7\n",
       "Abu Dhabi          7\n",
       "Raipur             6\n",
       "Kochi              5\n",
       "Kanpur             4\n",
       "East London        3\n",
       "Nagpur             3\n",
       "Kimberley          3\n",
       "Bloemfontein       2\n",
       "Name: city, dtype: int64"
      ]
     },
     "execution_count": 59,
     "metadata": {},
     "output_type": "execute_result"
    }
   ],
   "source": [
    "# most matches played in the city\n",
    "data['city'].value_counts()"
   ]
  },
  {
   "cell_type": "code",
   "execution_count": 60,
   "id": "0eb4ca64",
   "metadata": {},
   "outputs": [
    {
     "data": {
      "text/plain": [
       "381"
      ]
     },
     "execution_count": 60,
     "metadata": {},
     "output_type": "execute_result"
    }
   ],
   "source": [
    "# finding out how many times a team won the match after winning the toss\n",
    "\n",
    "import numpy as np\n",
    "np.sum(data['toss_winner']==data['winner'])"
   ]
  },
  {
   "cell_type": "code",
   "execution_count": 61,
   "id": "d4ea0a0d",
   "metadata": {},
   "outputs": [
    {
     "data": {
      "text/plain": [
       "0.5107238605898123"
      ]
     },
     "execution_count": 61,
     "metadata": {},
     "output_type": "execute_result"
    }
   ],
   "source": [
    "# there are total 746 matches played\n",
    "\n",
    "381/746"
   ]
  },
  {
   "cell_type": "code",
   "execution_count": null,
   "id": "489cd888",
   "metadata": {},
   "outputs": [],
   "source": [
    "# Then we can say 51% of the times in ipl the team have won the toss and  wins the match "
   ]
  },
  {
   "cell_type": "markdown",
   "id": "5c07c289",
   "metadata": {},
   "source": [
    "# INNINGS DATASET"
   ]
  },
  {
   "cell_type": "code",
   "execution_count": 65,
   "id": "1e99d37e",
   "metadata": {},
   "outputs": [],
   "source": [
    "dt =pd.read_csv('C:/Users/nEW u/Documents/IPL_Data/innings_data.csv')"
   ]
  },
  {
   "cell_type": "code",
   "execution_count": 66,
   "id": "6465e3db",
   "metadata": {},
   "outputs": [
    {
     "data": {
      "text/html": [
       "<div>\n",
       "<style scoped>\n",
       "    .dataframe tbody tr th:only-of-type {\n",
       "        vertical-align: middle;\n",
       "    }\n",
       "\n",
       "    .dataframe tbody tr th {\n",
       "        vertical-align: top;\n",
       "    }\n",
       "\n",
       "    .dataframe thead th {\n",
       "        text-align: right;\n",
       "    }\n",
       "</style>\n",
       "<table border=\"1\" class=\"dataframe\">\n",
       "  <thead>\n",
       "    <tr style=\"text-align: right;\">\n",
       "      <th></th>\n",
       "      <th>id</th>\n",
       "      <th>season</th>\n",
       "      <th>batsman</th>\n",
       "      <th>bowler</th>\n",
       "      <th>innings</th>\n",
       "      <th>non_striker</th>\n",
       "      <th>replacements</th>\n",
       "      <th>bowled_over</th>\n",
       "      <th>batsman_team</th>\n",
       "      <th>player_out</th>\n",
       "      <th>fielder_caught_out</th>\n",
       "      <th>type_out</th>\n",
       "      <th>extras_wides</th>\n",
       "      <th>extras_legbyes</th>\n",
       "      <th>extras_noballs</th>\n",
       "      <th>extras_byes</th>\n",
       "      <th>extras_penalty</th>\n",
       "      <th>total_extras_runs</th>\n",
       "      <th>batsman_runs</th>\n",
       "      <th>total_runs</th>\n",
       "    </tr>\n",
       "  </thead>\n",
       "  <tbody>\n",
       "    <tr>\n",
       "      <th>0</th>\n",
       "      <td>335988</td>\n",
       "      <td>2008</td>\n",
       "      <td>AC Gilchrist</td>\n",
       "      <td>GD McGrath</td>\n",
       "      <td>1st</td>\n",
       "      <td>JC Buttler</td>\n",
       "      <td>NaN</td>\n",
       "      <td>0.1</td>\n",
       "      <td>Rajasthan Royals</td>\n",
       "      <td>0</td>\n",
       "      <td>0</td>\n",
       "      <td>0</td>\n",
       "      <td>0</td>\n",
       "      <td>1</td>\n",
       "      <td>0</td>\n",
       "      <td>0</td>\n",
       "      <td>0</td>\n",
       "      <td>1</td>\n",
       "      <td>0</td>\n",
       "      <td>1</td>\n",
       "    </tr>\n",
       "    <tr>\n",
       "      <th>1</th>\n",
       "      <td>335988</td>\n",
       "      <td>2008</td>\n",
       "      <td>AC Gilchrist</td>\n",
       "      <td>GD McGrath</td>\n",
       "      <td>1st</td>\n",
       "      <td>AM Rahane</td>\n",
       "      <td>NaN</td>\n",
       "      <td>0.2</td>\n",
       "      <td>Rajasthan Royals</td>\n",
       "      <td>0</td>\n",
       "      <td>0</td>\n",
       "      <td>0</td>\n",
       "      <td>0</td>\n",
       "      <td>0</td>\n",
       "      <td>0</td>\n",
       "      <td>0</td>\n",
       "      <td>0</td>\n",
       "      <td>0</td>\n",
       "      <td>0</td>\n",
       "      <td>0</td>\n",
       "    </tr>\n",
       "    <tr>\n",
       "      <th>2</th>\n",
       "      <td>335988</td>\n",
       "      <td>2008</td>\n",
       "      <td>AC Gilchrist</td>\n",
       "      <td>GD McGrath</td>\n",
       "      <td>1st</td>\n",
       "      <td>AM Rahane</td>\n",
       "      <td>NaN</td>\n",
       "      <td>0.3</td>\n",
       "      <td>Rajasthan Royals</td>\n",
       "      <td>0</td>\n",
       "      <td>0</td>\n",
       "      <td>0</td>\n",
       "      <td>0</td>\n",
       "      <td>0</td>\n",
       "      <td>0</td>\n",
       "      <td>0</td>\n",
       "      <td>0</td>\n",
       "      <td>0</td>\n",
       "      <td>4</td>\n",
       "      <td>4</td>\n",
       "    </tr>\n",
       "    <tr>\n",
       "      <th>3</th>\n",
       "      <td>335988</td>\n",
       "      <td>2008</td>\n",
       "      <td>Y Venugopal Rao</td>\n",
       "      <td>GD McGrath</td>\n",
       "      <td>1st</td>\n",
       "      <td>AM Rahane</td>\n",
       "      <td>NaN</td>\n",
       "      <td>0.4</td>\n",
       "      <td>Rajasthan Royals</td>\n",
       "      <td>0</td>\n",
       "      <td>0</td>\n",
       "      <td>0</td>\n",
       "      <td>0</td>\n",
       "      <td>0</td>\n",
       "      <td>0</td>\n",
       "      <td>0</td>\n",
       "      <td>0</td>\n",
       "      <td>0</td>\n",
       "      <td>0</td>\n",
       "      <td>0</td>\n",
       "    </tr>\n",
       "    <tr>\n",
       "      <th>4</th>\n",
       "      <td>335988</td>\n",
       "      <td>2008</td>\n",
       "      <td>Y Venugopal Rao</td>\n",
       "      <td>GD McGrath</td>\n",
       "      <td>1st</td>\n",
       "      <td>AM Rahane</td>\n",
       "      <td>NaN</td>\n",
       "      <td>0.5</td>\n",
       "      <td>Rajasthan Royals</td>\n",
       "      <td>0</td>\n",
       "      <td>0</td>\n",
       "      <td>0</td>\n",
       "      <td>0</td>\n",
       "      <td>0</td>\n",
       "      <td>0</td>\n",
       "      <td>0</td>\n",
       "      <td>0</td>\n",
       "      <td>0</td>\n",
       "      <td>6</td>\n",
       "      <td>6</td>\n",
       "    </tr>\n",
       "  </tbody>\n",
       "</table>\n",
       "</div>"
      ],
      "text/plain": [
       "       id  season          batsman      bowler innings non_striker  \\\n",
       "0  335988    2008     AC Gilchrist  GD McGrath     1st  JC Buttler   \n",
       "1  335988    2008     AC Gilchrist  GD McGrath     1st   AM Rahane   \n",
       "2  335988    2008     AC Gilchrist  GD McGrath     1st   AM Rahane   \n",
       "3  335988    2008  Y Venugopal Rao  GD McGrath     1st   AM Rahane   \n",
       "4  335988    2008  Y Venugopal Rao  GD McGrath     1st   AM Rahane   \n",
       "\n",
       "  replacements  bowled_over      batsman_team player_out fielder_caught_out  \\\n",
       "0          NaN          0.1  Rajasthan Royals          0                  0   \n",
       "1          NaN          0.2  Rajasthan Royals          0                  0   \n",
       "2          NaN          0.3  Rajasthan Royals          0                  0   \n",
       "3          NaN          0.4  Rajasthan Royals          0                  0   \n",
       "4          NaN          0.5  Rajasthan Royals          0                  0   \n",
       "\n",
       "  type_out  extras_wides  extras_legbyes  extras_noballs  extras_byes  \\\n",
       "0        0             0               1               0            0   \n",
       "1        0             0               0               0            0   \n",
       "2        0             0               0               0            0   \n",
       "3        0             0               0               0            0   \n",
       "4        0             0               0               0            0   \n",
       "\n",
       "   extras_penalty  total_extras_runs  batsman_runs  total_runs  \n",
       "0               0                  1             0           1  \n",
       "1               0                  0             0           0  \n",
       "2               0                  0             4           4  \n",
       "3               0                  0             0           0  \n",
       "4               0                  0             6           6  "
      ]
     },
     "execution_count": 66,
     "metadata": {},
     "output_type": "execute_result"
    }
   ],
   "source": [
    "dt.head()"
   ]
  },
  {
   "cell_type": "code",
   "execution_count": 67,
   "id": "816c128c",
   "metadata": {},
   "outputs": [
    {
     "data": {
      "text/plain": [
       "Index(['id', 'season', 'batsman', 'bowler', 'innings', 'non_striker',\n",
       "       'replacements', 'bowled_over', 'batsman_team', 'player_out',\n",
       "       'fielder_caught_out', 'type_out', 'extras_wides', 'extras_legbyes',\n",
       "       'extras_noballs', 'extras_byes', 'extras_penalty', 'total_extras_runs',\n",
       "       'batsman_runs', 'total_runs'],\n",
       "      dtype='object')"
      ]
     },
     "execution_count": 67,
     "metadata": {},
     "output_type": "execute_result"
    }
   ],
   "source": [
    "dt.columns"
   ]
  }
 ],
 "metadata": {
  "kernelspec": {
   "display_name": "Python 3",
   "language": "python",
   "name": "python3"
  },
  "language_info": {
   "codemirror_mode": {
    "name": "ipython",
    "version": 3
   },
   "file_extension": ".py",
   "mimetype": "text/x-python",
   "name": "python",
   "nbconvert_exporter": "python",
   "pygments_lexer": "ipython3",
   "version": "3.8.8"
  }
 },
 "nbformat": 4,
 "nbformat_minor": 5
}
